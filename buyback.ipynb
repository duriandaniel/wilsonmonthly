{
 "cells": [
  {
   "cell_type": "markdown",
   "id": "2585b4fa",
   "metadata": {},
   "source": [
    "https://chatgpt.com/share/690092da-9dcc-8002-8dfc-aea896b84cdb"
   ]
  },
  {
   "cell_type": "markdown",
   "id": "148aee3d",
   "metadata": {},
   "source": [
    "| Step | User Message                                                                                                                                                                   | ChatGPT Action / Summary                                                                                                                                                                  |\n",
    "| ---- | ------------------------------------------------------------------------------------------------------------------------------------------------------------------------------ | ----------------------------------------------------------------------------------------------------------------------------------------------------------------------------------------- |\n",
    "| 1    | **User:** “Go find all buyback related notifications from today on ASX and download them.”                                                                                     | ChatGPT navigated to the ASX announcements page and began searching and downloading buyback PDFs.                                                                                         |\n",
    "| 2    | **After ~9 minutes**                                                                                                                                                           | ChatGPT downloaded 6 PDFs related to buybacks: Air New Zealand, Alternative Investment Trust, Telstra, Worley, European Lithium, and Vita Life Sciences.                                  |\n",
    "| 3    | **User:** “Give me all the pdf documents now.”                                                                                                                                 | ChatGPT returned all 6 PDFs with file names and brief descriptions.                                                                                                                       |\n",
    "| 4    | **User:** “Continue.”                                                                                                                                                          | ChatGPT attempted to resume the download for remaining buyback files but was interrupted.                                                                                                 |\n",
    "| 5    | **User:** Uploaded several PDFs manually (e.g., Telstra, Vita Life, Air NZ, etc.) and said: “Turn this data into a table — date of buyback, ticker, shares, value, high, low.” | ChatGPT parsed all PDFs and generated a structured buyback summary table including Air NZ, Telstra, Vita Life, and Alternative Investment Trust.                                          |\n",
    "| 6    | **User:** “Make into CSV — all numeric columns as floats.”                                                                                                                     | ChatGPT converted the table into a clean CSV file (`asx_buybacks_2025-10-28.csv`) with fields: `date`, `ticker`, `company`, `shares_bought_back`, `value_aud`, `high_price`, `low_price`. |\n",
    "| 7    | **Final Output:**                                                                                                                                                              | ChatGPT provided a download link to the structured CSV file.                                                                                                                              |\n",
    "\n"
   ]
  }
 ],
 "metadata": {
  "language_info": {
   "name": "python"
  }
 },
 "nbformat": 4,
 "nbformat_minor": 5
}
